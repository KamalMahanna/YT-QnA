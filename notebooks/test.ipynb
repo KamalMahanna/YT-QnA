{
 "cells": [
  {
   "cell_type": "code",
   "execution_count": null,
   "metadata": {},
   "outputs": [],
   "source": [
    "from google import genai\n",
    "from google.genai import types\n",
    "import wave\n",
    "\n",
    "# Set up the wave file to save the output:\n",
    "def wave_file(filename, pcm, channels=1, rate=24000, sample_width=2):\n",
    "   with wave.open(filename, \"wb\") as wf:\n",
    "      wf.setnchannels(channels)\n",
    "      wf.setsampwidth(sample_width)\n",
    "      wf.setframerate(rate)\n",
    "      wf.writeframes(pcm)\n",
    "\n",
    "client = genai.Client(api_key=\"GEMINI_API_KEY\")\n",
    "\n",
    "response = client.models.generate_content(\n",
    "   model=\"gemini-2.5-flash-preview-tts\",\n",
    "   contents=\"Say cheerfully: Have a wonderful day!\",\n",
    "   config=types.GenerateContentConfig(\n",
    "      response_modalities=[\"AUDIO\"],\n",
    "      speech_config=types.SpeechConfig(\n",
    "         voice_config=types.VoiceConfig(\n",
    "            prebuilt_voice_config=types.PrebuiltVoiceConfig(\n",
    "               voice_name='Kore',\n",
    "            )\n",
    "         )\n",
    "      ),\n",
    "   )\n",
    ")\n",
    "\n",
    "data = response.candidates[0].content.parts[0].inline_data.data\n",
    "\n",
    "file_name='out.wav'\n",
    "wave_file(file_name, data) # Saves the file to current directory"
   ]
  },
  {
   "cell_type": "code",
   "execution_count": null,
   "metadata": {},
   "outputs": [],
   "source": [
    "# To run this code you need to install the following dependencies:\n",
    "# pip install google-genai\n",
    "\n",
    "import base64\n",
    "import mimetypes\n",
    "import os\n",
    "import re\n",
    "import struct\n",
    "from google import genai\n",
    "from google.genai import types\n",
    "\n",
    "\n",
    "def save_binary_file(file_name, data):\n",
    "    f = open(file_name, \"wb\")\n",
    "    f.write(data)\n",
    "    f.close()\n",
    "    print(f\"File saved to to: {file_name}\")\n",
    "\n",
    "\n",
    "def generate():\n",
    "    client = genai.Client(\n",
    "        api_key=os.environ.get(\"GEMINI_API_KEY\"),\n",
    "    )\n",
    "\n",
    "    model = \"gemini-2.5-pro-preview-tts\"\n",
    "    contents = [\n",
    "        types.Content(\n",
    "            role=\"user\",\n",
    "            parts=[\n",
    "                types.Part.from_text(text=\"\"\"INSERT_INPUT_HERE\"\"\"),\n",
    "            ],\n",
    "        ),\n",
    "    ]\n",
    "    generate_content_config = types.GenerateContentConfig(\n",
    "        temperature=1,\n",
    "        response_modalities=[\n",
    "            \"audio\",\n",
    "        ],\n",
    "        speech_config=types.SpeechConfig(\n",
    "            voice_config=types.VoiceConfig(\n",
    "                prebuilt_voice_config=types.PrebuiltVoiceConfig(\n",
    "                    voice_name=\"Zephyr\"\n",
    "                )\n",
    "            )\n",
    "        ),\n",
    "    )\n",
    "\n",
    "    file_index = 0\n",
    "    for chunk in client.models.generate_content_stream(\n",
    "        model=model,\n",
    "        contents=contents,\n",
    "        config=generate_content_config,\n",
    "    ):\n",
    "        if (\n",
    "            chunk.candidates is None\n",
    "            or chunk.candidates[0].content is None\n",
    "            or chunk.candidates[0].content.parts is None\n",
    "        ):\n",
    "            continue\n",
    "        if chunk.candidates[0].content.parts[0].inline_data and chunk.candidates[0].content.parts[0].inline_data.data:\n",
    "            file_name = f\"ENTER_FILE_NAME_{file_index}\"\n",
    "            file_index += 1\n",
    "            inline_data = chunk.candidates[0].content.parts[0].inline_data\n",
    "            data_buffer = inline_data.data\n",
    "            file_extension = mimetypes.guess_extension(inline_data.mime_type)\n",
    "            if file_extension is None:\n",
    "                file_extension = \".wav\"\n",
    "                data_buffer = convert_to_wav(inline_data.data, inline_data.mime_type)\n",
    "            save_binary_file(f\"{file_name}{file_extension}\", data_buffer)\n",
    "        else:\n",
    "            print(chunk.text)\n",
    "\n",
    "def convert_to_wav(audio_data: bytes, mime_type: str) -> bytes:\n",
    "    \"\"\"Generates a WAV file header for the given audio data and parameters.\n",
    "\n",
    "    Args:\n",
    "        audio_data: The raw audio data as a bytes object.\n",
    "        mime_type: Mime type of the audio data.\n",
    "\n",
    "    Returns:\n",
    "        A bytes object representing the WAV file header.\n",
    "    \"\"\"\n",
    "    parameters = parse_audio_mime_type(mime_type)\n",
    "    bits_per_sample = parameters[\"bits_per_sample\"]\n",
    "    sample_rate = parameters[\"rate\"]\n",
    "    num_channels = 1\n",
    "    data_size = len(audio_data)\n",
    "    bytes_per_sample = bits_per_sample // 8\n",
    "    block_align = num_channels * bytes_per_sample\n",
    "    byte_rate = sample_rate * block_align\n",
    "    chunk_size = 36 + data_size  # 36 bytes for header fields before data chunk size\n",
    "\n",
    "    # http://soundfile.sapp.org/doc/WaveFormat/\n",
    "\n",
    "    header = struct.pack(\n",
    "        \"<4sI4s4sIHHIIHH4sI\",\n",
    "        b\"RIFF\",          # ChunkID\n",
    "        chunk_size,       # ChunkSize (total file size - 8 bytes)\n",
    "        b\"WAVE\",          # Format\n",
    "        b\"fmt \",          # Subchunk1ID\n",
    "        16,               # Subchunk1Size (16 for PCM)\n",
    "        1,                # AudioFormat (1 for PCM)\n",
    "        num_channels,     # NumChannels\n",
    "        sample_rate,      # SampleRate\n",
    "        byte_rate,        # ByteRate\n",
    "        block_align,      # BlockAlign\n",
    "        bits_per_sample,  # BitsPerSample\n",
    "        b\"data\",          # Subchunk2ID\n",
    "        data_size         # Subchunk2Size (size of audio data)\n",
    "    )\n",
    "    return header + audio_data\n",
    "\n",
    "def parse_audio_mime_type(mime_type: str) -> dict[str, int | None]:\n",
    "    \"\"\"Parses bits per sample and rate from an audio MIME type string.\n",
    "\n",
    "    Assumes bits per sample is encoded like \"L16\" and rate as \"rate=xxxxx\".\n",
    "\n",
    "    Args:\n",
    "        mime_type: The audio MIME type string (e.g., \"audio/L16;rate=24000\").\n",
    "\n",
    "    Returns:\n",
    "        A dictionary with \"bits_per_sample\" and \"rate\" keys. Values will be\n",
    "        integers if found, otherwise None.\n",
    "    \"\"\"\n",
    "    bits_per_sample = 16\n",
    "    rate = 24000\n",
    "\n",
    "    # Extract rate from parameters\n",
    "    parts = mime_type.split(\";\")\n",
    "    for param in parts: # Skip the main type part\n",
    "        param = param.strip()\n",
    "        if param.lower().startswith(\"rate=\"):\n",
    "            try:\n",
    "                rate_str = param.split(\"=\", 1)[1]\n",
    "                rate = int(rate_str)\n",
    "            except (ValueError, IndexError):\n",
    "                # Handle cases like \"rate=\" with no value or non-integer value\n",
    "                pass # Keep rate as default\n",
    "        elif param.startswith(\"audio/L\"):\n",
    "            try:\n",
    "                bits_per_sample = int(param.split(\"L\", 1)[1])\n",
    "            except (ValueError, IndexError):\n",
    "                pass # Keep bits_per_sample as default if conversion fails\n",
    "\n",
    "    return {\"bits_per_sample\": bits_per_sample, \"rate\": rate}\n",
    "\n",
    "\n",
    "if __name__ == \"__main__\":\n",
    "    generate()\n"
   ]
  },
  {
   "cell_type": "code",
   "execution_count": null,
   "metadata": {},
   "outputs": [],
   "source": [
    "import chromadb\n",
    "chroma_client = chromadb.PersistentClient(\"../DataBases/my_chroma_db\")\n",
    "import sys\n",
    "import os\n",
    "parent_dir = os.path.abspath(os.path.join(os.getcwd(), \"..\"))\n",
    "sys.path.append(parent_dir)"
   ]
  },
  {
   "cell_type": "code",
   "execution_count": null,
   "metadata": {},
   "outputs": [],
   "source": [
    "from dotenv import load_dotenv\n",
    "load_dotenv(\"../.env\")\n",
    "from utils.LLM import GeminiLLM"
   ]
  },
  {
   "cell_type": "code",
   "execution_count": null,
   "metadata": {},
   "outputs": [],
   "source": [
    "chroma_client.list_collections()"
   ]
  },
  {
   "cell_type": "code",
   "execution_count": null,
   "metadata": {},
   "outputs": [],
   "source": [
    "chroma_client.delete_collection(\"yt_transcripts\")"
   ]
  },
  {
   "cell_type": "code",
   "execution_count": null,
   "metadata": {},
   "outputs": [],
   "source": [
    "my_collection = chroma_client.get_or_create_collection(\"yt_transcripts\", embedding_function=GeminiLLM(os.getenv(\"GOOGLE_API_KEY\")))"
   ]
  },
  {
   "cell_type": "code",
   "execution_count": null,
   "metadata": {},
   "outputs": [],
   "source": [
    "my_collection.query(query_texts=\"what happen in deep sea\",n_results=5)"
   ]
  },
  {
   "cell_type": "code",
   "execution_count": null,
   "metadata": {},
   "outputs": [],
   "source": []
  },
  {
   "cell_type": "code",
   "execution_count": null,
   "metadata": {},
   "outputs": [],
   "source": [
    "my_collection.get(where={\"youtube_id\": \"NEk5cEEalYw\"})['documents']"
   ]
  },
  {
   "cell_type": "code",
   "execution_count": null,
   "metadata": {},
   "outputs": [],
   "source": []
  },
  {
   "cell_type": "code",
   "execution_count": null,
   "metadata": {},
   "outputs": [],
   "source": [
    "vstore = VectorStore(os.getenv(\"GOOGLE_API_KEY\"))"
   ]
  },
  {
   "cell_type": "code",
   "execution_count": null,
   "metadata": {},
   "outputs": [],
   "source": [
    "db = chroma_client.get_collection(\"yt_transcripts\")"
   ]
  },
  {
   "cell_type": "code",
   "execution_count": null,
   "metadata": {},
   "outputs": [],
   "source": [
    "/*************  ✨ Windsurf Command ⭐  *************/\n",
    "CELL:\n",
    "db.get({\"youtube_id\": \"NEk5cEEalYw\", \"time_stamp\": {\"$gte\": 120, \"$lte\": 180}})\n",
    "/*******  e8e462ab-6ba1-4c85-b3ae-8061d251a52e  *******/"
   ]
  },
  {
   "cell_type": "code",
   "execution_count": null,
   "metadata": {},
   "outputs": [],
   "source": [
    "results = db.query(query_texts=\"what are the names of deep sea creatures\",n_results=5)"
   ]
  },
  {
   "cell_type": "code",
   "execution_count": null,
   "metadata": {},
   "outputs": [],
   "source": [
    "results"
   ]
  },
  {
   "cell_type": "code",
   "execution_count": null,
   "metadata": {},
   "outputs": [],
   "source": [
    "db.get(where={\"youtube_id\": \"NEk5cEEalYw\"})"
   ]
  },
  {
   "cell_type": "code",
   "execution_count": null,
   "metadata": {},
   "outputs": [],
   "source": [
    "import sys\n",
    "import os\n",
    "parent_dir = os.path.abspath(os.path.join(os.getcwd(), \"..\"))\n",
    "sys.path.append(parent_dir)"
   ]
  },
  {
   "cell_type": "code",
   "execution_count": null,
   "metadata": {},
   "outputs": [],
   "source": [
    "from dotenv import load_dotenv\n",
    "load_dotenv(\"../.env\")"
   ]
  },
  {
   "cell_type": "code",
   "execution_count": null,
   "metadata": {},
   "outputs": [],
   "source": [
    "from utils.AudioDownloader import AudioDownloader\n",
    "from utils.LLM import GroqLLM\n",
    "from pytubefix import YouTube\n",
    "\n",
    "llm = GroqLLM(api_key=os.getenv(\"GROQ_API_KEY\"))\n",
    "# audio_downloader = AudioDownloader().download_audio(\"gm_lQG8fYjI\")"
   ]
  },
  {
   "cell_type": "code",
   "execution_count": null,
   "metadata": {},
   "outputs": [],
   "source": [
    "import tempfile\n",
    "\n",
    "def download_audio(video_id):\n",
    "    video_id = video_id\n",
    "    url = \"https://www.youtube.com/watch?v=\" + video_id\n",
    "    yt = YouTube(url)\n",
    "    audio_stream = yt.streams.filter(only_audio=True, abr=\"128kbps\")\n",
    "\n",
    "    with tempfile.NamedTemporaryFile(\n",
    "        suffix=\".m4a\", delete=False\n",
    "    ) as temp_audio:\n",
    "\n",
    "        audio_directory = temp_audio.name.split(\"/\")\n",
    "        audio_stream.first().download(\n",
    "            filename=audio_directory[-1],\n",
    "            output_path=\"/\" + audio_directory[1],\n",
    "        )\n",
    "    return temp_audio.name"
   ]
  },
  {
   "cell_type": "code",
   "execution_count": null,
   "metadata": {},
   "outputs": [],
   "source": [
    "url = \"https://www.youtube.com/watch?v=\" + \"NEk5cEEalYw\"\n",
    "yt = YouTube(url)"
   ]
  },
  {
   "cell_type": "code",
   "execution_count": null,
   "metadata": {},
   "outputs": [],
   "source": [
    "from IPython.display import Audio"
   ]
  },
  {
   "cell_type": "code",
   "execution_count": null,
   "metadata": {},
   "outputs": [],
   "source": [
    "the_audio = download_audio(\"NEk5cEEalYw\")"
   ]
  },
  {
   "cell_type": "code",
   "execution_count": null,
   "metadata": {},
   "outputs": [],
   "source": [
    "the_audio"
   ]
  },
  {
   "cell_type": "code",
   "execution_count": null,
   "metadata": {},
   "outputs": [],
   "source": [
    "os.path.getsize(the_audio)"
   ]
  },
  {
   "cell_type": "code",
   "execution_count": null,
   "metadata": {},
   "outputs": [],
   "source": [
    "from pydub import AudioSegment\n",
    "import numpy as np\n",
    "the_audio = AudioSegment.from_file(the_audio)\n"
   ]
  },
  {
   "cell_type": "code",
   "execution_count": null,
   "metadata": {},
   "outputs": [],
   "source": [
    "segments = np.linspace(0, 31220649+1, 3)"
   ]
  },
  {
   "cell_type": "code",
   "execution_count": null,
   "metadata": {},
   "outputs": [],
   "source": [
    "segments"
   ]
  },
  {
   "cell_type": "code",
   "execution_count": null,
   "metadata": {},
   "outputs": [],
   "source": [
    "new_chunk = the_audio[0:15610325].export(\"test.mp3\",format=\"mp3\")"
   ]
  },
  {
   "cell_type": "code",
   "execution_count": null,
   "metadata": {},
   "outputs": [],
   "source": [
    "len(the_audio.raw_data)"
   ]
  },
  {
   "cell_type": "code",
   "execution_count": null,
   "metadata": {},
   "outputs": [],
   "source": [
    "len(the_audio)"
   ]
  },
  {
   "cell_type": "code",
   "execution_count": null,
   "metadata": {},
   "outputs": [],
   "source": [
    "os.path.getsize(\"/home/kamal/Desktop/YT-QnA/notebooks/test.mp3\")"
   ]
  },
  {
   "cell_type": "code",
   "execution_count": null,
   "metadata": {},
   "outputs": [],
   "source": []
  },
  {
   "cell_type": "code",
   "execution_count": null,
   "metadata": {},
   "outputs": [],
   "source": []
  },
  {
   "cell_type": "code",
   "execution_count": null,
   "metadata": {},
   "outputs": [],
   "source": []
  },
  {
   "cell_type": "code",
   "execution_count": null,
   "metadata": {},
   "outputs": [],
   "source": [
    "from pydub.utils import make_chunks"
   ]
  },
  {
   "cell_type": "code",
   "execution_count": null,
   "metadata": {},
   "outputs": [],
   "source": [
    "chunks = make_chunks(the_audio, 35336798)"
   ]
  },
  {
   "cell_type": "code",
   "execution_count": null,
   "metadata": {},
   "outputs": [],
   "source": [
    "\n",
    "for i, chunk in enumerate(chunks):\n",
    "    chunk_name = f\"chunk_{i}.wav\"\n",
    "    chunk.export(chunk_name, format=\"wav\")"
   ]
  },
  {
   "cell_type": "code",
   "execution_count": null,
   "metadata": {},
   "outputs": [],
   "source": []
  },
  {
   "cell_type": "code",
   "execution_count": null,
   "metadata": {},
   "outputs": [],
   "source": [
    "Audio(the_audio[0:35336798])"
   ]
  },
  {
   "cell_type": "code",
   "execution_count": null,
   "metadata": {},
   "outputs": [],
   "source": [
    "new_chunk"
   ]
  },
  {
   "cell_type": "code",
   "execution_count": null,
   "metadata": {},
   "outputs": [],
   "source": []
  },
  {
   "cell_type": "code",
   "execution_count": null,
   "metadata": {},
   "outputs": [],
   "source": []
  },
  {
   "cell_type": "code",
   "execution_count": null,
   "metadata": {},
   "outputs": [],
   "source": []
  },
  {
   "cell_type": "code",
   "execution_count": null,
   "metadata": {},
   "outputs": [],
   "source": [
    "if os.path.getsize(temp_audio.name) > (15 * 1024**2):\n",
    "    audio = AudioSegment.from_file(temp_audio.name)\n",
    "    temp_audio_paths = []\n",
    "    no_of_required_chunks = int(np.ceil(os.path.getsize(temp_audio.name) / (15 * 1024**2)))\n",
    "    segments = np.linspace(0, os.path.getsize(temp_audio.name)+1, self.no_of_required_chunks + 1)\n"
   ]
  },
  {
   "cell_type": "code",
   "execution_count": null,
   "metadata": {},
   "outputs": [],
   "source": [
    "the_audio[12:].export(\"test.mp3\", format=\"mp3\")"
   ]
  },
  {
   "cell_type": "code",
   "execution_count": null,
   "metadata": {},
   "outputs": [],
   "source": []
  },
  {
   "cell_type": "code",
   "execution_count": null,
   "metadata": {},
   "outputs": [],
   "source": []
  },
  {
   "cell_type": "code",
   "execution_count": null,
   "metadata": {},
   "outputs": [],
   "source": []
  },
  {
   "cell_type": "code",
   "execution_count": null,
   "metadata": {},
   "outputs": [],
   "source": [
    "from pydub import AudioSegment\n",
    "\n",
    "the_audio = AudioSegment.from_file(\"Something STRANGE Found in Deep Sea | The Dark Oxygen Mystery.m4a\")\n"
   ]
  },
  {
   "cell_type": "code",
   "execution_count": null,
   "metadata": {},
   "outputs": [],
   "source": [
    "import os\n",
    "os.path.getsize(\"Something STRANGE Found in Deep Sea | The Dark Oxygen Mystery.m4a\")/(1024**2*18)"
   ]
  },
  {
   "cell_type": "code",
   "execution_count": null,
   "metadata": {},
   "outputs": [],
   "source": [
    "import numpy as np"
   ]
  },
  {
   "cell_type": "code",
   "execution_count": null,
   "metadata": {},
   "outputs": [],
   "source": [
    "len(the_audio)"
   ]
  },
  {
   "cell_type": "code",
   "execution_count": null,
   "metadata": {},
   "outputs": [],
   "source": [
    "a = np.linspace(start=0,stop=len(the_audio)+1,num=2+1,dtype=int)"
   ]
  },
  {
   "cell_type": "code",
   "execution_count": null,
   "metadata": {},
   "outputs": [],
   "source": [
    "from pydub import AudioSegment\n",
    "import numpy as np\n",
    "the_audio = AudioSegment.from_file(\"Something STRANGE Found in Deep Sea | The Dark Oxygen Mystery.m4a\")\n",
    "a = np.linspace(start=0,stop=len(the_audio)+1,num=2+1,dtype=int)\n",
    "for i,j in zip(a[:-1],a[1:]):\n",
    "    the_audio[i:j].export(f\"test{i}.mp3\",format=\"mp3\")"
   ]
  },
  {
   "cell_type": "code",
   "execution_count": null,
   "metadata": {},
   "outputs": [],
   "source": []
  },
  {
   "cell_type": "code",
   "execution_count": null,
   "metadata": {},
   "outputs": [],
   "source": [
    "(len(the_audio)//1000)//60,(len(the_audio)//1000)%60"
   ]
  },
  {
   "cell_type": "code",
   "execution_count": null,
   "metadata": {},
   "outputs": [],
   "source": [
    "19*60*1000"
   ]
  },
  {
   "cell_type": "code",
   "execution_count": null,
   "metadata": {},
   "outputs": [],
   "source": [
    "the_audio[:10000].export(\"test.mp3\", format=\"mp3\")"
   ]
  },
  {
   "cell_type": "code",
   "execution_count": null,
   "metadata": {},
   "outputs": [],
   "source": [
    "a = [1,2,4]\n",
    "b=[3,4]\n",
    "a.extend(b)"
   ]
  },
  {
   "cell_type": "code",
   "execution_count": null,
   "metadata": {},
   "outputs": [],
   "source": [
    "a"
   ]
  },
  {
   "cell_type": "code",
   "execution_count": null,
   "metadata": {},
   "outputs": [],
   "source": [
    "the_audio"
   ]
  },
  {
   "cell_type": "code",
   "execution_count": null,
   "metadata": {},
   "outputs": [],
   "source": [
    "1929067//(60**3),1929067%(60**3)"
   ]
  },
  {
   "cell_type": "code",
   "execution_count": null,
   "metadata": {},
   "outputs": [],
   "source": [
    "import numpy as np\n",
    "np.linspace(start=0, stop=31220649, num=2+1,dtype=int)"
   ]
  },
  {
   "cell_type": "code",
   "execution_count": null,
   "metadata": {},
   "outputs": [],
   "source": [
    "np."
   ]
  },
  {
   "cell_type": "code",
   "execution_count": null,
   "metadata": {},
   "outputs": [],
   "source": [
    "a=[1,2,]"
   ]
  },
  {
   "cell_type": "code",
   "execution_count": null,
   "metadata": {},
   "outputs": [],
   "source": [
    "18*1024**2\n"
   ]
  },
  {
   "cell_type": "code",
   "execution_count": null,
   "metadata": {},
   "outputs": [],
   "source": [
    "from pytubefix import YouTube\n",
    "yt = YouTube(\"https://www.youtube.com/watch?v=NEk5cEEalYw\")\n",
    "audio_stream = yt.streams.filter(only_audio=True, abr=\"128kbps\")"
   ]
  },
  {
   "cell_type": "code",
   "execution_count": null,
   "metadata": {},
   "outputs": [],
   "source": [
    "audio_stream.first().download()"
   ]
  },
  {
   "cell_type": "code",
   "execution_count": null,
   "metadata": {},
   "outputs": [],
   "source": [
    "340287488/(1024**2)/8"
   ]
  },
  {
   "cell_type": "code",
   "execution_count": null,
   "metadata": {},
   "outputs": [],
   "source": [
    "31220649/(1024**2)"
   ]
  },
  {
   "cell_type": "code",
   "execution_count": null,
   "metadata": {},
   "outputs": [],
   "source": [
    "from DataBases.VectorStore import VectorStore\n",
    "\n",
    "vector_store = VectorStore(\"AIzaSyBqfX2X2X2X2X2X2X2X2X2X2X2X2X2X2X\")\n",
    "\n",
    "vector_store.collection.get(where={\"youtube_id\": \"5YP7GOeFTCY\"}, include=[\"documents\"])\n"
   ]
  },
  {
   "cell_type": "code",
   "execution_count": null,
   "metadata": {},
   "outputs": [],
   "source": []
  },
  {
   "cell_type": "code",
   "execution_count": null,
   "metadata": {},
   "outputs": [],
   "source": []
  },
  {
   "cell_type": "code",
   "execution_count": null,
   "metadata": {},
   "outputs": [],
   "source": [
    "from google import genai\n",
    "from dotenv import load_dotenv\n",
    "load_dotenv(\"../.env\")"
   ]
  },
  {
   "cell_type": "code",
   "execution_count": null,
   "metadata": {},
   "outputs": [],
   "source": [
    "import sys\n",
    "import os\n",
    "parent_dir = os.path.abspath(os.path.join(os.getcwd(), \"..\"))\n",
    "sys.path.append(parent_dir)"
   ]
  },
  {
   "cell_type": "code",
   "execution_count": null,
   "metadata": {},
   "outputs": [],
   "source": [
    "from utils.LLM import GeminiLLM"
   ]
  },
  {
   "cell_type": "code",
   "execution_count": null,
   "metadata": {},
   "outputs": [],
   "source": [
    "llm = GeminiLLM(os.getenv(\"GEMINI_API_KEY\"))"
   ]
  },
  {
   "cell_type": "code",
   "execution_count": null,
   "metadata": {},
   "outputs": [],
   "source": [
    "result = llm.TextLLM(\"you are a helpfull assistant\", [{\"role\": \"user\", \"parts\": [{\"text\": \"hello\"}]}])"
   ]
  },
  {
   "cell_type": "code",
   "execution_count": null,
   "metadata": {},
   "outputs": [],
   "source": [
    "result.send_message(\"who are you\").text"
   ]
  },
  {
   "cell_type": "code",
   "execution_count": null,
   "metadata": {},
   "outputs": [],
   "source": []
  },
  {
   "cell_type": "code",
   "execution_count": null,
   "metadata": {},
   "outputs": [],
   "source": [
    "from utils.Transcript import Transcript"
   ]
  },
  {
   "cell_type": "code",
   "execution_count": null,
   "metadata": {},
   "outputs": [],
   "source": [
    "transcript = Transcript()"
   ]
  },
  {
   "cell_type": "code",
   "execution_count": null,
   "metadata": {},
   "outputs": [],
   "source": [
    "whisp_api = transcript.with_whisper(os.getenv(\"GROQ_API_KEY\"), \"2nNGN72eYiU\")"
   ]
  },
  {
   "cell_type": "code",
   "execution_count": null,
   "metadata": {},
   "outputs": [],
   "source": []
  },
  {
   "cell_type": "code",
   "execution_count": null,
   "metadata": {},
   "outputs": [],
   "source": []
  },
  {
   "cell_type": "code",
   "execution_count": null,
   "metadata": {},
   "outputs": [],
   "source": []
  },
  {
   "cell_type": "code",
   "execution_count": null,
   "metadata": {},
   "outputs": [],
   "source": []
  },
  {
   "cell_type": "code",
   "execution_count": null,
   "metadata": {},
   "outputs": [],
   "source": []
  },
  {
   "cell_type": "code",
   "execution_count": null,
   "metadata": {},
   "outputs": [],
   "source": [
    "chat = client.chats.create(model=\"gemini-2.5-flash-preview-05-20\",\n",
    "history=[\n",
    "    {\n",
    "        \"role\": \"user\",\n",
    "        \"parts\": [{\"text\": \"Hello, how are you?\"}]\n",
    "    },\n",
    "    {\n",
    "        \"role\": \"model\",\n",
    "        \"parts\": [{\"text\": \"I'm a large language model, trained by google.\"}]\n",
    "    }\n",
    "])\n",
    "\n"
   ]
  },
  {
   "cell_type": "code",
   "execution_count": null,
   "metadata": {},
   "outputs": [],
   "source": [
    "chat.send_message(\"who are you\")"
   ]
  },
  {
   "cell_type": "code",
   "execution_count": null,
   "metadata": {},
   "outputs": [],
   "source": [
    "chat.get_history()"
   ]
  },
  {
   "cell_type": "code",
   "execution_count": null,
   "metadata": {},
   "outputs": [],
   "source": [
    "from google import genai\n",
    "from dotenv import load_dotenv\n",
    "import os\n",
    "load_dotenv(\"../.env\")\n",
    "client = genai.Client(api_key=os.getenv(\"GEMINI_API_KEY\"))\n",
    "\n",
    "from google.genai import types\n",
    "\n",
    "result = client.models.embed_content(\n",
    "        model=\"models/text-embedding-004\",\n",
    "        contents=[\"What is the meaning of life?\",\"for real?\"],\n",
    "        config=types.EmbedContentConfig(task_type=\"SEMANTIC_SIMILARITY\")\n",
    ")\n",
    "print(result.embeddings)"
   ]
  },
  {
   "cell_type": "code",
   "execution_count": null,
   "metadata": {},
   "outputs": [],
   "source": [
    "[i.values for i in result.embeddings]"
   ]
  },
  {
   "cell_type": "code",
   "execution_count": null,
   "metadata": {},
   "outputs": [],
   "source": [
    "client.ListModels"
   ]
  },
  {
   "cell_type": "code",
   "execution_count": null,
   "metadata": {},
   "outputs": [],
   "source": []
  },
  {
   "cell_type": "code",
   "execution_count": null,
   "metadata": {},
   "outputs": [],
   "source": []
  },
  {
   "cell_type": "code",
   "execution_count": null,
   "metadata": {},
   "outputs": [],
   "source": [
    "import sys\n",
    "import os\n",
    "parent_dir = os.path.abspath(os.path.join(os.getcwd(), \"..\"))\n",
    "sys.path.append(parent_dir)"
   ]
  },
  {
   "cell_type": "code",
   "execution_count": null,
   "metadata": {},
   "outputs": [],
   "source": [
    "from utils.Transcript import Transcript\n",
    "transcript = Transcript()\n",
    "texts = transcript.with_youtube_api(\"5YP7GOeFTCY\")"
   ]
  },
  {
   "cell_type": "code",
   "execution_count": null,
   "metadata": {},
   "outputs": [],
   "source": [
    "texts[:10]"
   ]
  },
  {
   "cell_type": "code",
   "execution_count": null,
   "metadata": {},
   "outputs": [],
   "source": [
    "with open('texts.txt','w+') as f:\n",
    "    for i in texts[:10]:\n",
    "        f.write(i['text'] + '\\n')"
   ]
  },
  {
   "cell_type": "code",
   "execution_count": null,
   "metadata": {},
   "outputs": [],
   "source": [
    "from langdetect import detect"
   ]
  },
  {
   "cell_type": "code",
   "execution_count": null,
   "metadata": {},
   "outputs": [],
   "source": [
    "detect(\" \".join([text['text'] for text in texts[:10]]))"
   ]
  },
  {
   "cell_type": "code",
   "execution_count": null,
   "metadata": {},
   "outputs": [],
   "source": [
    "len(texts)"
   ]
  },
  {
   "cell_type": "code",
   "execution_count": null,
   "metadata": {},
   "outputs": [],
   "source": [
    "\n",
    "import os\n",
    "from groq import Groq\n",
    "\n",
    "client = Groq()\n",
    "filename = \"/tmp/tmp6g5jvppl.m4a\"\n",
    "\n",
    "with open(filename, \"rb\") as file:\n",
    "    transcription = client.audio.transcriptions.create(\n",
    "      file=(filename, file.read()), \n",
    "      language=\"en\",\n",
    "      model=\"whisper-large-v3-turbo\",\n",
    "      response_format=\"verbose_json\",\n",
    "    )\n",
    "    print(transcription.text)"
   ]
  },
  {
   "cell_type": "code",
   "execution_count": null,
   "metadata": {},
   "outputs": [],
   "source": [
    "transcription.segments[0]['text']"
   ]
  },
  {
   "cell_type": "code",
   "execution_count": null,
   "metadata": {},
   "outputs": [],
   "source": [
    "transcription.segments[0]['start']"
   ]
  },
  {
   "cell_type": "code",
   "execution_count": null,
   "metadata": {},
   "outputs": [],
   "source": [
    "import os\n",
    "paths = ['/tmp/tmp5ydyyyv4.m4a','/tmp/tmpggun29z0.m4a','/tmp/tmp30meyr1c.m4a']\n",
    "for path in paths:\n",
    "    if os.path.exists(path):\n",
    "        os.remove(path)"
   ]
  },
  {
   "cell_type": "code",
   "execution_count": null,
   "metadata": {},
   "outputs": [],
   "source": []
  },
  {
   "cell_type": "code",
   "execution_count": null,
   "metadata": {},
   "outputs": [],
   "source": []
  },
  {
   "cell_type": "code",
   "execution_count": null,
   "metadata": {},
   "outputs": [],
   "source": [
    "import sys\n",
    "import os\n",
    "parent_dir = os.path.abspath(os.path.join(os.getcwd(), \"..\"))\n",
    "sys.path.append(parent_dir)"
   ]
  },
  {
   "cell_type": "code",
   "execution_count": null,
   "metadata": {},
   "outputs": [],
   "source": [
    "import asyncio\n",
    "from utils.Translator import translate_text"
   ]
  },
  {
   "cell_type": "code",
   "execution_count": null,
   "metadata": {},
   "outputs": [],
   "source": [
    "from utils.Transcript import Transcript\n",
    "\n",
    "transcript = Transcript()\n",
    "texts = transcript.with_whisper(\"2nNGN72eYiU\")"
   ]
  },
  {
   "cell_type": "code",
   "execution_count": null,
   "metadata": {},
   "outputs": [],
   "source": [
    "texts"
   ]
  },
  {
   "cell_type": "code",
   "execution_count": null,
   "metadata": {},
   "outputs": [],
   "source": [
    "with open('texts.txt','w') as f:\n",
    "    f.write(texts)"
   ]
  },
  {
   "cell_type": "code",
   "execution_count": null,
   "metadata": {},
   "outputs": [],
   "source": [
    "translated_texts = asyncio.run(translate_text(texts))"
   ]
  },
  {
   "cell_type": "code",
   "execution_count": null,
   "metadata": {},
   "outputs": [],
   "source": []
  },
  {
   "cell_type": "code",
   "execution_count": null,
   "metadata": {},
   "outputs": [],
   "source": []
  },
  {
   "cell_type": "code",
   "execution_count": null,
   "metadata": {},
   "outputs": [],
   "source": [
    "import os\n",
    "output_path=\"/tmp/tmpe9wob2yo.mp4\"\n",
    "if output_path:\n",
    "    if not os.path.isabs(output_path):\n",
    "        output_path = os.path.join(os.getcwd(), output_path)\n",
    "else:\n",
    "    output_path = os.getcwd()\n",
    "os.makedirs(output_path, exist_ok=True)\n",
    "output_path"
   ]
  },
  {
   "cell_type": "code",
   "execution_count": null,
   "metadata": {},
   "outputs": [],
   "source": [
    "output_path"
   ]
  },
  {
   "cell_type": "code",
   "execution_count": null,
   "metadata": {},
   "outputs": [],
   "source": []
  },
  {
   "cell_type": "code",
   "execution_count": null,
   "metadata": {},
   "outputs": [],
   "source": []
  },
  {
   "cell_type": "code",
   "execution_count": null,
   "metadata": {},
   "outputs": [],
   "source": [
    "from pytubefix import YouTube\n",
    "import tempfile\n",
    "\n",
    "url = \"https://www.youtube.com/watch?v=\" + \"5YP7GOeFTCY\"\n",
    "yt = YouTube(url)\n",
    "audio_stream = yt.streams.filter(only_audio=True,abr=\"128kbps\")\n",
    "\n",
    "with tempfile.NamedTemporaryFile(suffix=\".mp4\", delete=False) as temp_audio:\n",
    "\n",
    "    directory = temp_audio.name.split(\"/\")\n",
    "    \n",
    "    audio_stream.first().download(filename = directory[-1],output_path = \"/\"+directory[1])"
   ]
  },
  {
   "cell_type": "code",
   "execution_count": null,
   "metadata": {},
   "outputs": [],
   "source": [
    "temp_audio.name"
   ]
  },
  {
   "cell_type": "code",
   "execution_count": null,
   "metadata": {},
   "outputs": [],
   "source": [
    "directory"
   ]
  },
  {
   "cell_type": "code",
   "execution_count": null,
   "metadata": {},
   "outputs": [],
   "source": [
    "import filetype\n",
    "\n",
    "kind = filetype.guess(temp_audio.name)\n",
    "if kind:\n",
    "    print(f\"Detected type: {kind.mime}, extension: {kind.extension}\")\n",
    "else:\n",
    "    print(\"File type could not be determined.\")\n"
   ]
  },
  {
   "cell_type": "code",
   "execution_count": null,
   "metadata": {},
   "outputs": [],
   "source": [
    "if os.path.getsize(temp_audio.name) == 0:\n",
    "    print(\"File is empty.\")\n",
    "else:\n",
    "    print(\"File is not empty.\")"
   ]
  },
  {
   "cell_type": "code",
   "execution_count": null,
   "metadata": {},
   "outputs": [],
   "source": []
  },
  {
   "cell_type": "code",
   "execution_count": null,
   "metadata": {},
   "outputs": [],
   "source": [
    "import magic\n",
    "\n",
    "file_path = temp_audio.name\n",
    "\n",
    "# Create a Magic object\n",
    "mime = magic.Magic(mime=True)\n",
    "mime.from_file('tmptmpxdexbsq8.mp4')"
   ]
  },
  {
   "cell_type": "code",
   "execution_count": null,
   "metadata": {},
   "outputs": [],
   "source": [
    "from IPython.display import display, Audio\n",
    "display(Audio(filename=temp_audio.name))"
   ]
  },
  {
   "cell_type": "code",
   "execution_count": null,
   "metadata": {},
   "outputs": [],
   "source": [
    "from pytubefix import YouTube\n",
    "url = \"https://www.youtube.com/watch?v=\"+\"0zhPaRZev8w\"\n",
    "yt = YouTube(url)\n",
    "audio_stream = yt.streams.filter(only_audio=True,abr=\"128kbps\")"
   ]
  },
  {
   "cell_type": "code",
   "execution_count": null,
   "metadata": {},
   "outputs": [],
   "source": [
    "audio_stream.first().download()"
   ]
  },
  {
   "cell_type": "code",
   "execution_count": null,
   "metadata": {},
   "outputs": [],
   "source": []
  },
  {
   "cell_type": "code",
   "execution_count": null,
   "metadata": {},
   "outputs": [],
   "source": [
    "audio_stream.download()"
   ]
  },
  {
   "cell_type": "code",
   "execution_count": null,
   "metadata": {},
   "outputs": [],
   "source": [
    "audio_stream.download()"
   ]
  },
  {
   "cell_type": "code",
   "execution_count": null,
   "metadata": {},
   "outputs": [],
   "source": []
  },
  {
   "cell_type": "code",
   "execution_count": null,
   "metadata": {},
   "outputs": [],
   "source": [
    "from youtube_transcript_api import YouTubeTranscriptApi\n",
    "\n",
    "# Replace with the YouTube video ID\n",
    "video_id = \"ZPUtA3W-7_I\""
   ]
  },
  {
   "cell_type": "code",
   "execution_count": null,
   "metadata": {},
   "outputs": [],
   "source": [
    "# ytt_api = YouTubeTranscriptApi()\n",
    "# transcript_list = ytt_api.fetch(video_id)"
   ]
  },
  {
   "cell_type": "code",
   "execution_count": null,
   "metadata": {},
   "outputs": [],
   "source": [
    "ytt_api = YouTubeTranscriptApi()"
   ]
  },
  {
   "cell_type": "code",
   "execution_count": null,
   "metadata": {},
   "outputs": [],
   "source": [
    "\n",
    "transcript_list = ytt_api.get_transcript(video_id,languages=[\"en\",'hi'])\n",
    "print(transcript_list)"
   ]
  },
  {
   "cell_type": "code",
   "execution_count": null,
   "metadata": {},
   "outputs": [],
   "source": [
    "transcript_list[:5]"
   ]
  },
  {
   "cell_type": "code",
   "execution_count": null,
   "metadata": {},
   "outputs": [],
   "source": [
    "hind_transcript = ytt_api.get_transcript(\"giqjHxdN-Ok\",languages=[\"en\",'hi'])"
   ]
  },
  {
   "cell_type": "code",
   "execution_count": null,
   "metadata": {},
   "outputs": [],
   "source": [
    "hind_transcript[:3]"
   ]
  },
  {
   "cell_type": "code",
   "execution_count": null,
   "metadata": {},
   "outputs": [],
   "source": [
    "texts = \" \".join([i['text'] for i in hind_transcript[:10]])"
   ]
  },
  {
   "cell_type": "code",
   "execution_count": null,
   "metadata": {},
   "outputs": [],
   "source": [
    "texts"
   ]
  },
  {
   "cell_type": "code",
   "execution_count": null,
   "metadata": {},
   "outputs": [],
   "source": [
    "texts=\"नमस्कार वेलकम टू करियर 247 मैं हूं प्रशांत धवन कभी 2 बिलियन डॉल के न्यूक्लियर बमबर्स 30 सेकंड में डिस्ट्रॉय होते हुए देखे हैं नहीं देखे मैं आपको दिखाता हूं इधर आप देख पाओगे यह फुटेज पूरी दुनिया में वायरल हो रही है। नीचे जो यह प्लेन दिख रहे हैं ना यह न्यूक्लियर स्ट्रेटेजिक बमबर्स हैं। ऐसा कोई भी प्लेन भारत के पास नहीं है। गिनती के दो-तीन कंट्रीज के पास ऐसे बमबर्स हैं और यूक्रेन\""
   ]
  },
  {
   "cell_type": "code",
   "execution_count": null,
   "metadata": {},
   "outputs": [],
   "source": [
    "\n",
    "\n",
    "# Initialize the Translator\n",
    "translator = Translator()\n",
    "\n",
    "# Example text in another language (e.g., Hindi)\n",
    "\n",
    "# Translate to English\n",
    "translated = translator.translate(texts, dest='en')"
   ]
  },
  {
   "cell_type": "code",
   "execution_count": null,
   "metadata": {},
   "outputs": [],
   "source": [
    "translated.text"
   ]
  },
  {
   "cell_type": "code",
   "execution_count": null,
   "metadata": {},
   "outputs": [],
   "source": [
    "from googletrans import Translator\n",
    "import asyncio\n",
    "async def translate_text(texts):\n",
    "    async with Translator() as translator:\n",
    "        result = await translator.translate(texts)\n",
    "        print(result)  # <Translated src=ko dest=en text=Good evening. pronunciation=Good evening.>\n",
    "asyncio.run(translate_text(texts))"
   ]
  },
  {
   "cell_type": "code",
   "execution_count": null,
   "metadata": {},
   "outputs": [],
   "source": []
  },
  {
   "cell_type": "code",
   "execution_count": null,
   "metadata": {},
   "outputs": [],
   "source": []
  },
  {
   "cell_type": "code",
   "execution_count": null,
   "metadata": {},
   "outputs": [],
   "source": []
  },
  {
   "cell_type": "code",
   "execution_count": null,
   "metadata": {},
   "outputs": [],
   "source": [
    "\n",
    "\n",
    "for i in translated:\n",
    "    print(i.text)"
   ]
  },
  {
   "cell_type": "code",
   "execution_count": null,
   "metadata": {},
   "outputs": [],
   "source": []
  },
  {
   "cell_type": "code",
   "execution_count": null,
   "metadata": {},
   "outputs": [],
   "source": [
    "from langdetect import detect"
   ]
  },
  {
   "cell_type": "code",
   "execution_count": null,
   "metadata": {},
   "outputs": [],
   "source": [
    "detect(texts)"
   ]
  },
  {
   "cell_type": "code",
   "execution_count": null,
   "metadata": {},
   "outputs": [],
   "source": []
  },
  {
   "cell_type": "code",
   "execution_count": null,
   "metadata": {},
   "outputs": [],
   "source": [
    "type(transcript_list)"
   ]
  },
  {
   "cell_type": "code",
   "execution_count": null,
   "metadata": {},
   "outputs": [],
   "source": [
    "temp_ = \"\"\n",
    "for i in transcript_list:\n",
    "    temp_ += i['text']\n",
    "len(temp_)"
   ]
  },
  {
   "cell_type": "code",
   "execution_count": null,
   "metadata": {},
   "outputs": [],
   "source": [
    "[True for i in temp_.split(\". \") if len(i) > 500]"
   ]
  },
  {
   "cell_type": "code",
   "execution_count": null,
   "metadata": {},
   "outputs": [],
   "source": [
    "68.76+3.719"
   ]
  },
  {
   "cell_type": "code",
   "execution_count": null,
   "metadata": {},
   "outputs": [],
   "source": [
    "\n",
    "chunk_size = 300\n",
    "chunks = []\n",
    "timestamps = []\n",
    "\n",
    "chunk_stack = \"\"\n",
    "timestamp_stack = \"\"\n",
    "\n",
    "for i in transcript_list:\n",
    "    the_text = i['text'].strip()\n",
    "    the_timestamp = i['start']\n",
    "        \n",
    "    # if the text is longer than the chunk size\n",
    "    if len(the_text) >= chunk_size:\n",
    "\n",
    "        # if previously any chunks exist, append them to the list\n",
    "        if chunk_stack:\n",
    "            chunks.append(chunk_stack)\n",
    "            timestamps.append(timestamp_stack)\n",
    "\n",
    "            # reset the stack\n",
    "            chunk_stack = \"\"\n",
    "            timestamp_stack = 0\n",
    "\n",
    "        # append the current chunk\n",
    "        chunks.append(the_text)\n",
    "        timestamps.append(the_timestamp)\n",
    "\n",
    "\n",
    "    # if the text is shorter than the chunk size\n",
    "    else:\n",
    "        \n",
    "        # if chunk and text combined is longer than the chunk size\n",
    "        if len(chunk_stack := chunk_stack + \" \" + the_text) > chunk_size:\n",
    "            \n",
    "            # split the chunk stack into sentences\n",
    "            splits = chunk_stack.split(\". \")\n",
    "            temp_chunk_stack = \"\"\n",
    "            \n",
    "            # while the chunk stack is longer than the chunk size\n",
    "            while(len(chunk_stack := \". \".join(splits)) > chunk_size):\n",
    "                \n",
    "                # pop the last sentence from the splits and add it to the temp chunk stack\n",
    "                temp_chunk_stack = splits.pop() + \". \" + temp_chunk_stack\n",
    "            \n",
    "            # append the chunk stack and timestamp when the chunk stack is shorter than the chunk size\n",
    "            chunks.append(chunk_stack.strip())\n",
    "            timestamps.append(timestamp_stack)\n",
    "\n",
    "            # reset the stack to temp chunk stack\n",
    "            chunk_stack = temp_chunk_stack\n",
    "\n",
    "        # always update the timestamp    \n",
    "        timestamp_stack = the_timestamp\n"
   ]
  },
  {
   "cell_type": "code",
   "execution_count": null,
   "metadata": {},
   "outputs": [],
   "source": [
    "len(chunks)"
   ]
  },
  {
   "cell_type": "code",
   "execution_count": null,
   "metadata": {},
   "outputs": [],
   "source": [
    "len(timestamps)"
   ]
  },
  {
   "cell_type": "markdown",
   "metadata": {},
   "source": [
    "ChromaDB"
   ]
  },
  {
   "cell_type": "code",
   "execution_count": null,
   "metadata": {},
   "outputs": [],
   "source": [
    "import chromadb\n",
    "chroma_client = chromadb.PersistentClient(\"./my_chroma_db\")"
   ]
  },
  {
   "cell_type": "code",
   "execution_count": null,
   "metadata": {},
   "outputs": [],
   "source": [
    "chroma_client.list_collections()"
   ]
  },
  {
   "cell_type": "code",
   "execution_count": null,
   "metadata": {},
   "outputs": [],
   "source": [
    "# generating embeddings\n",
    "\n",
    "from google import genai\n",
    "from dotenv import load_dotenv\n",
    "import os\n",
    "load_dotenv()\n",
    "gemini_api_key = os.getenv(\"GOOGLE_API_KEY\")\n",
    "\n",
    "client = genai.Client(api_key=gemini_api_key)\n",
    "\n",
    "class GeminiEmbedding:\n",
    "    def __call__(self, input):\n",
    "        result = client.models.embed_content(\n",
    "            model=\"models/text-embedding-004\",\n",
    "            contents=input)\n",
    "\n",
    "        return [e.values for e in result.embeddings]\n"
   ]
  },
  {
   "cell_type": "code",
   "execution_count": null,
   "metadata": {},
   "outputs": [],
   "source": [
    "collection = chroma_client.get_or_create_collection(\"youtube_transcripts\",embedding_function=GeminiEmbedding())"
   ]
  },
  {
   "cell_type": "code",
   "execution_count": null,
   "metadata": {},
   "outputs": [],
   "source": [
    "import numpy as np\n",
    "import uuid\n",
    "\n",
    "chunks_len = len(chunks)\n",
    "for i in range(0,chunks_len,100):\n",
    "\n",
    "    collection.add(\n",
    "        documents=chunks[i:i+100],\n",
    "        ids=[str(uuid.uuid4()) for _ in range(100 if chunks_len >= 100 else chunks_len%100)],\n",
    "        metadatas=[{\n",
    "            \"time_stamp\": t,\n",
    "            \"youtube_id\": video_id,\n",
    "        } for t in timestamps[i:i+100] ]\n",
    "    )\n",
    "    chunks_len -= 100"
   ]
  },
  {
   "cell_type": "code",
   "execution_count": null,
   "metadata": {},
   "outputs": [],
   "source": [
    "len(collection.get()['ids'])"
   ]
  },
  {
   "cell_type": "code",
   "execution_count": null,
   "metadata": {},
   "outputs": [],
   "source": [
    "iiii = collection.query( query_texts='pollution in India').embeddings[0].values)"
   ]
  },
  {
   "cell_type": "code",
   "execution_count": null,
   "metadata": {},
   "outputs": [],
   "source": [
    "collection.query( query_texts='pollution in India', n_results=5).get('documents','metadatas')"
   ]
  },
  {
   "cell_type": "code",
   "execution_count": null,
   "metadata": {},
   "outputs": [],
   "source": [
    "iiii"
   ]
  },
  {
   "cell_type": "code",
   "execution_count": null,
   "metadata": {},
   "outputs": [],
   "source": [
    "client.models.embed_content(\n",
    "        model=\"models/text-embedding-004\",\n",
    "        contents='who are you').embeddings[0].values"
   ]
  }
 ],
 "metadata": {
  "kernelspec": {
   "display_name": ".venv",
   "language": "python",
   "name": "python3"
  },
  "language_info": {
   "codemirror_mode": {
    "name": "ipython",
    "version": 3
   },
   "file_extension": ".py",
   "mimetype": "text/x-python",
   "name": "python",
   "nbconvert_exporter": "python",
   "pygments_lexer": "ipython3",
   "version": "3.13.3"
  }
 },
 "nbformat": 4,
 "nbformat_minor": 2
}
